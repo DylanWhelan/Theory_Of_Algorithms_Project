{
 "cells": [
  {
   "cell_type": "markdown",
   "id": "5d13a0f0",
   "metadata": {},
   "source": [
    "# The Polynomial Time Complexity Class(P)"
   ]
  },
  {
   "cell_type": "markdown",
   "id": "396a67ec",
   "metadata": {},
   "source": [
    "The purpose of this notebook is to write about the Polynomial Time Complexity Class, one of the Time Complexity Classes and perhaps the one most most desireable when writings algorithms."
   ]
  },
  {
   "cell_type": "markdown",
   "id": "174c8282",
   "metadata": {},
   "source": [
    "### Definition of Time Complexity Class"
   ]
  },
  {
   "cell_type": "markdown",
   "id": "598bf522",
   "metadata": {},
   "source": [
    "Time Complexity Classes are a manner of classifying problems based on the time taken to solve them, or more accurately classifying how the time required to solve the problem grows in response to an increase in the input size."
   ]
  },
  {
   "cell_type": "markdown",
   "id": "27b7e08c",
   "metadata": {},
   "source": [
    "### Definition of The Polynomial Time Complexity Class"
   ]
  },
  {
   "attachments": {},
   "cell_type": "markdown",
   "id": "7bd01ba4",
   "metadata": {},
   "source": [
    "The Polynomial Time Complexity Class is a Time Complexity Class composed of all the problems that can be solved using a deterministic Turing machine (an abstract machine, capable of being implementing any possible computer algorithm), in polynomial time or less. Or in otherwords the upper bounds of the Polynomial Time Complexity Class are problems with a complexity scaling polynomially with the input, meaning any problem with a complexity that scales more slowly is within the Polynomial Time Complexity Class and any problem that scales more quickly, i.e. exponentially is not a member of the set."
   ]
  },
  {
   "attachments": {},
   "cell_type": "markdown",
   "id": "74073a56",
   "metadata": {},
   "source": [
    "### Definition of Decision Problem"
   ]
  },
  {
   "attachments": {},
   "cell_type": "markdown",
   "id": "3316f181",
   "metadata": {},
   "source": [
    "A decision problem, is a problem where the answer can either be yes or no based on the input values. In set theory, a decision problem could be defined as the set of all possible inputs alongside the sub set of inputs for which the answer to the decision problem is yes.<br>\n",
    "For example, the decision problem regarding whether a number is prime or not:<br>\n",
    "$\\mathbb{N}_{1}$ or {1, 2, 3, 4, 5, ...} (The set of all natural numbers, not including 0) is the set of possible inputs for the decision problem<br>\n",
    "P or {2, 3, 7, 11, 13, ...} is the set of inputs for the decision problem of prime numbers for which the answer is yes, and of course P $\\in$ $\\mathbb{N}_{1}$ "
   ]
  },
  {
   "attachments": {},
   "cell_type": "markdown",
   "id": "a11b6ec6",
   "metadata": {},
   "source": [
    "The decision problem mentioned above, that being if a given number is prime, belongs to the Polynomial Time Complexity Class, as it has a time complexity of: O(n) = n.<br>\n",
    "A naive python implementation of an algorithm to determine whether or not a number is prime is given below."
   ]
  },
  {
   "cell_type": "code",
   "execution_count": 38,
   "id": "98bfe460",
   "metadata": {},
   "outputs": [
    {
     "name": "stdout",
     "output_type": "stream",
     "text": [
      "1 is prime: False\n",
      "2 is prime: True\n",
      "3 is prime: True\n",
      "4 is prime: False\n",
      "5 is prime: True\n",
      "6 is prime: False\n",
      "7 is prime: True\n",
      "8 is prime: False\n",
      "9 is prime: False\n"
     ]
    }
   ],
   "source": [
    "# A naive solution to determine if a number is prime\n",
    "def is_prime(number):\n",
    "    # Ensuring no invalid inputs\n",
    "    if not isinstance(number, int):\n",
    "        raise Exception(\"All inputs should be positive integers!\")\n",
    "    elif number < 1:\n",
    "        raise Exception(\"All inputs should be positive integers!\")\n",
    "    # If number is 1 then is not prime, is checked to avoid possible issues with range\n",
    "    elif number < 2:\n",
    "        return False\n",
    "    for i in range(2, number -1):\n",
    "        if number % i == 0:\n",
    "            return False\n",
    "    return True\n",
    "\n",
    "# To check primes and print the result\n",
    "def is_prime_print(number):\n",
    "    print(str(number) + \" is prime: \" + str(is_prime(number)))\n",
    "for i in range (1, 10):\n",
    "    is_prime_print(i)"
   ]
  },
  {
   "attachments": {},
   "cell_type": "markdown",
   "id": "65035e58",
   "metadata": {},
   "source": [
    "An example of a decision problem that dxoes not sit within the set of The Polynomial Time Complexity Class is that of the Graph Isomorphism problem. A naive python implementation of the problem with a time complexity of: O(n) = n!. Can be found further down in the notebook."
   ]
  },
  {
   "attachments": {},
   "cell_type": "markdown",
   "id": "ed8de86c",
   "metadata": {},
   "source": [
    "### Definition of Big O Notation"
   ]
  },
  {
   "attachments": {},
   "cell_type": "markdown",
   "id": "834c9e00",
   "metadata": {},
   "source": [
    "Big O Nation, is a way of representing how the complexity of a problem or algorithm scales relative to the size of the input. When using big O notation, only the largest term of a formula is taken into account as it is the only term that makes a large difference when the size of input tends towards infinity.<br>\n",
    "For Example:<br>\n",
    "If a formula representing the time complexity of an algorithm was: f(x) = $3x^{4}$ + $2x^{3}$ + $5x$ + 6, in big O notation it would be rendered as: O(n) = $n^{4}$. This is because as stated, as the input tends towards infinity, the effect of the largest term on the output will dwarf the impact of all other terms and render them negligible."
   ]
  },
  {
   "attachments": {},
   "cell_type": "markdown",
   "id": "3893d2d2",
   "metadata": {},
   "source": [
    "### Caveats regarding Big O Notation"
   ]
  },
  {
   "attachments": {},
   "cell_type": "markdown",
   "id": "5217add8",
   "metadata": {},
   "source": [
    "It's worth noting however that in certain cases, big O notation isn't the only factor that should be taken into account, as it can sometimes be deceptive due to it's focus on the rate of growth of an algorithm in the roughest sense. This means that if for example, you will be performing very frequent operations on inputs of a small size, the big O notation might mislead you as to the most effective solution to the problem, as the terms ignored in big O notation might actually have a larger affect on the time complexity of the operation.<br>\n",
    "This is not a large concern, as such small inputs that render big O notation less accurate are also less likely to have large impacts on performance in the context of writing programs, but it is worth considering and taking into account what big O notation really means if doing finer grain optimzation."
   ]
  },
  {
   "attachments": {},
   "cell_type": "markdown",
   "id": "6aec63a5",
   "metadata": {},
   "source": [
    "### Examples of Polynomial Time"
   ]
  },
  {
   "attachments": {},
   "cell_type": "markdown",
   "id": "95967de4",
   "metadata": {},
   "source": [
    "In the graph below there are examples of Time Complexity graphed:\n",
    "The functions: O(n) = C, to O(n) = n ^ 2, represented on the graph below can all be considered to be members of The Polynomial Time Complexity Class, as the complexity of the problems grows at most at a polynomial level as the size of the input increases.<br>\n",
    "The functions: O(n) = n ^ 2 and O(n) = n!, cannot be considered to be part of the Polynomial Time Complexity Class as they grow exponentially in complexity as the size of the input increases."
   ]
  },
  {
   "cell_type": "code",
   "execution_count": 20,
   "id": "e8b6a3ba",
   "metadata": {},
   "outputs": [
    {
     "data": {
      "image/png": "[encoded data removed]",
      "text/plain": [
       "<Figure size 432x288 with 1 Axes>"
      ]
     },
     "metadata": {
      "needs_background": "light"
     },
     "output_type": "display_data"
    }
   ],
   "source": [
    "import math\n",
    "import matplotlib.pyplot as plt\n",
    "import random as rand\n",
    "import networkx as nx\n",
    "# Examples of big O notation graphed, containing both P Time Complexity and non P time Complexity example\n",
    "\n",
    "y_axis = [1]\n",
    "function_c = [1]\n",
    "function_log_n = [1]\n",
    "function_n = [1]\n",
    "function_n_log_n = [1]\n",
    "function_n2 = [1]\n",
    "function_2n = [1]\n",
    "function_n_fac = [1]\n",
    "\n",
    "\n",
    "for n in range(2,16):\n",
    "    y_axis.append(n)\n",
    "    function_c.append(1)\n",
    "    function_log_n.append(math.log(n))\n",
    "    function_n.append(n)\n",
    "    function_n_log_n.append(math.log(n) * n)\n",
    "    function_n2.append(math.pow(n, 2))\n",
    "    function_2n.append(math.pow(2, n))\n",
    "    function_n_fac.append(math.factorial(n))\n",
    "\n",
    "plt.plot(y_axis, function_c, label = \"O(n) = c\")\n",
    "plt.plot(y_axis, function_log_n, label = \"O(n) = log(n)\")\n",
    "plt.plot(y_axis, function_n, label = \"O(n) = n\")\n",
    "plt.plot(y_axis, function_n_log_n, label = \"O(n) = n log(n)\")\n",
    "plt.plot(y_axis, function_n2, label = \"O(n) = n^2\")\n",
    "plt.plot(y_axis, function_2n, label = \"O(n) = 2^n\")\n",
    "plt.plot(y_axis, function_n_fac, label = \"O(n) = n!\")\n",
    "plt.yscale(\"log\")\n",
    "plt.legend()\n",
    "plt.show()"
   ]
  },
  {
   "attachments": {},
   "cell_type": "markdown",
   "id": "6bb2c503",
   "metadata": {},
   "source": [
    "### The Importance of the Polynomial Time Complexity Class"
   ]
  },
  {
   "attachments": {},
   "cell_type": "markdown",
   "id": "870eb8c1",
   "metadata": {},
   "source": [
    "The reason that the Polynomial Time Complexity Class is so important is illustrated in the graph above, as problems in this set in even the very worst will only grow at a polynomial level relative to the size of the input. This means that they can be considered to be practically solvable or in other words \"tractable\". This isn't a hard rule however, as polynomials with very large degrees can grow too quickly too be efficiently solved for larger input sizes, and in certain cases problems with exponential growth can be solved practically, if the input sizes remain small."
   ]
  },
  {
   "attachments": {},
   "cell_type": "markdown",
   "id": "876d5f79",
   "metadata": {},
   "source": [
    "#### Example of a problem in the Polynomial Time Complexity Class"
   ]
  },
  {
   "attachments": {},
   "cell_type": "markdown",
   "id": "86718eda",
   "metadata": {},
   "source": [
    "An important problem in the Polynomial Time Complexity Class is that of sorting lists of elements. It is an area that has recieved a great deal of research and as efficient implementations of sorting algorithms save a great deal of time and result in large performance increases for a variety of computer programs.<br>\n",
    "An example of an algorithm for sorting efficiently is the heap sort. An algorithm for sorting elements in O(n log(n)) time, an implementation of a heap sort in python is displayed below:"
   ]
  },
  {
   "cell_type": "code",
   "execution_count": 21,
   "id": "2a67d5eb",
   "metadata": {},
   "outputs": [
    {
     "name": "stdout",
     "output_type": "stream",
     "text": [
      "[255, 93, 134, 187, 244, 99, 249, 79, 54, 20, 215, 78, 157, 111, 136, 148, 137, 182, 42, 68, 32, 247, 234, 240, 58]\n",
      "[20, 32, 42, 54, 58, 68, 78, 79, 93, 99, 111, 134, 136, 137, 148, 157, 182, 187, 215, 234, 240, 244, 247, 249, 255]\n"
     ]
    }
   ],
   "source": [
    "# Implementation of the Heapsort\n",
    "# The functions used here were derived from the heapsort function on this page: https://www.geeksforgeeks.org/heap-sort/\n",
    "def heap_sort(inputList): # The function for sorting lists is created here, the inputList is the list to sort\n",
    "    length = len(inputList)\n",
    "    \n",
    "    #for i in range(length//2 - 1, -1, -1): # The max heap is created\n",
    "     #   heapify(inputList, length, i)\n",
    "        \n",
    "    build_heap(inputList)\n",
    "    \n",
    "    for i in range(length-1, 0, -1): # The heap is reverted back to list form\n",
    "        inputList[i], inputList[0] = inputList[0], inputList[i]\n",
    "        heapify(inputList, i, 0)\n",
    "\n",
    "def heapify(inputList, listLength, index): # A subtree is created with the index value being the root\n",
    "    \n",
    "    root = index\n",
    "    left = 2 * index + 1\n",
    "    right = 2 * index + 2\n",
    "    \n",
    "     # The root must be larger than either of it's children, or it will be swapped with the larger child\n",
    "    if left < listLength and inputList[root] < inputList[left]:\n",
    "         root = left\n",
    "        \n",
    "    if right < listLength and inputList[root] < inputList[right]:\n",
    "        root = right\n",
    "    \n",
    "    if root != index: # If the root has been changed and no longer matches, the index, the values stored at the new root and the index are swapped\n",
    "        inputList[index], inputList[root] = inputList[root], inputList[index] # Values are swapped\n",
    "        \n",
    "        heapify(inputList, listLength, root) # The tree is recreated with the the new root\n",
    "\n",
    "def build_heap(inputList):\n",
    "    length = len(inputList)\n",
    "    \n",
    "    for i in range(length // 2 -1, -1, -1):\n",
    "        heapify(inputList, length, i)\n",
    "\n",
    "        \n",
    "testList = []\n",
    "for i in range(0, 25):\n",
    "    testList.append(rand.randint(1, 255))\n",
    "print(testList)\n",
    "\n",
    "heap_sort(testList)\n",
    "\n",
    "print(testList)"
   ]
  },
  {
   "attachments": {},
   "cell_type": "markdown",
   "id": "8138625b",
   "metadata": {},
   "source": [
    "### Example of a problem that does not fit in the Polynomial Time Complexity Class"
   ]
  },
  {
   "attachments": {},
   "cell_type": "markdown",
   "id": "0295d6d9",
   "metadata": {},
   "source": [
    "One example of a problem that does not fit into the Polynomial Time Complexity Class is the rather famous graph isomorphism problem. Though subsets of the problem for certain specificly shaped graphs may be fall into the Polynomial Time Complexity Class, there is no generalized solution applying to all graphs that can performed without the solution possessing an exponential time complexity in the worst case."
   ]
  },
  {
   "cell_type": "code",
   "execution_count": 22,
   "id": "0350618b",
   "metadata": {},
   "outputs": [
    {
     "data": {
      "image/png": "[encoded data removed]",
      "text/plain": [
       "<Figure size 432x288 with 2 Axes>"
      ]
     },
     "metadata": {},
     "output_type": "display_data"
    }
   ],
   "source": [
    "example1 = nx.Graph()\n",
    "example1Connections = [('1', '2'), ('1', '3'), ('1', '4'), ('3', '4'), ('2', '5'), ('2', '4'), ('4', '5')]\n",
    "example1.add_edges_from(example1Connections)\n",
    "\n",
    "\n",
    "example2 = nx.Graph()\n",
    "example2Connections = [('A', 'B'), ('A', 'C'), ('A', 'D'), ('C', 'D'),('B', 'E'), ('B', 'D'), ('D', 'E')]\n",
    "example2.add_edges_from(example2Connections)\n",
    "\n",
    "plt.subplot(121)\n",
    "nx.draw(example1, with_labels=True, node_color=\"red\")\n",
    "\n",
    "\n",
    "plt.subplot(122)\n",
    "nx.draw(example2, with_labels=True, node_color=\"green\")\n",
    "\n",
    "plt.show()"
   ]
  },
  {
   "attachments": {},
   "cell_type": "markdown",
   "id": "bccf6f3c",
   "metadata": {},
   "source": [
    "Below is the implementation of an algorithm for solving the Graph Isomorphism problem. As mentioned above, the Graph Isomorphism doesn't have a general solution that can be solved in polynomial time, so the time complexity of the implementation below is: O(n) = n!"
   ]
  },
  {
   "cell_type": "code",
   "execution_count": 23,
   "id": "b07e6f60",
   "metadata": {},
   "outputs": [
    {
     "name": "stdout",
     "output_type": "stream",
     "text": [
      "True\n"
     ]
    }
   ],
   "source": [
    "# The reason for the ordering of the function is to ensure that each has been declared before it is called\n",
    "\n",
    "# To determine whether two graphs are isomorphic, the two graphs are converted into adjacency tables\n",
    "# The adjacency table of the first graph, is then compared to all possible permutations of the adjacency table of the second graph\n",
    "# If for any the permutations, the two tables are found to be the same, the graphs are proven to be isomorphic\n",
    "\n",
    "# The purpose of this function is to enable the program to swap the points within the array\n",
    "# This is important as we need to test all valid arrangements of the points of a graph,\n",
    "# Before it can be said for certain that two graphs are not isomorphic\n",
    "\n",
    "# This function takes a numpy_array, two integers as arguments\n",
    "# The integers represent the points to swapped\n",
    "def rearrange_array(arr, firstPoint, secondPoint):\n",
    "    # First all relevant values for the points on the y axes of the array are swapped in the below for loop\n",
    "    for i in range(len(arr)):\n",
    "        arr[i][firstPoint], arr[i][secondPoint] = arr[i][secondPoint], arr[i][firstPoint]\n",
    "    \n",
    "    # The points are then swapped on the x axes\n",
    "    tempArr = arr[firstPoint].copy()\n",
    "    arr[firstPoint] = arr[secondPoint]\n",
    "    arr[secondPoint] = tempArr\n",
    "    \n",
    "    # The numpy array representing the adjacency of table of the graph is returned, with the points swapped\n",
    "    return arr\n",
    "\n",
    "\n",
    "# The purpose of this function is to test all possible permutations of the adjacency tables to determine isomorphism\n",
    "# The implementation for this function is derived from this source: https://www.geeksforgeeks.org/heaps-algorithm-for-generating-permutations/\n",
    "# The implementation has been altered to suit the requirements of this algorithm\n",
    "\n",
    "# This functions takes two numpy_arrays and an integer as arguments\n",
    "def test_permutation(arrayToMatch, arrayToChange, size):\n",
    "    \n",
    "    # Once the size variable has reached 1, the permutation has been successfully generated and is ready to be compared\n",
    "    # The results of the comparison are returned to the calling function\n",
    "    if size == 1:\n",
    "        return np.array_equal(arrayToMatch, arrayToChange)\n",
    "    \n",
    "    # The for loop iterates through every element in the array, in this case representing the points of the graph,\n",
    "    for i in range(size):\n",
    "        \n",
    "        # The function is called recursively, with the arrays passed in alongside, and a reduced size value\n",
    "        \n",
    "        result = test_permutation(arrayToMatch, arrayToChange, size - 1)\n",
    "        \n",
    "        # If the test is successful,the success is immediately returned, as no more test are required \n",
    "        if result == True:\n",
    "            return result\n",
    "        \n",
    "        # When the value of size is odd, the first and last points are swapped\n",
    "        if size % 2 == 1:\n",
    "            arrayToChange = rearrange_array(arrayToChange, 0, size -1)\n",
    "        # When the value of size is even, the point represented by i and the last point are swapped\n",
    "        else:\n",
    "            arrayToChange = rearrange_array(arrayToChange, i, size -1)\n",
    "            \n",
    "        return False\n",
    "\n",
    "            \n",
    "# This is the function responsible for utlizing the 2 earlier defined functions\n",
    "# This functions takes two networkx graphs as arguments\n",
    "def isomorphism_test(graph1, graph2):\n",
    "    \n",
    "    # The two networkx graphs are converted to numpy_arrays, which are used to represent the graphs adjacency tables\n",
    "    graph1AdjacencyTable = nx.to_numpy_array(graph1).astype(np.uint8)\n",
    "    graph2AdjacencyTable = nx.to_numpy_array(graph2).astype(np.uint8)\n",
    "    \n",
    "    # The test_permutation function is called to test all permutations of graph 2 against graph 1\n",
    "    return test_permutation(graph1AdjacencyTable, graph2AdjacencyTable, len(graph2AdjacencyTable))\n",
    "\n",
    "print(isomorphism_test(example1, example2))"
   ]
  }
 ],
 "metadata": {
  "kernelspec": {
   "display_name": "Python 3 (ipykernel)",
   "language": "python",
   "name": "python3"
  },
  "language_info": {
   "codemirror_mode": {
    "name": "ipython",
    "version": 3
   },
   "file_extension": ".py",
   "mimetype": "text/x-python",
   "name": "python",
   "nbconvert_exporter": "python",
   "pygments_lexer": "ipython3",
   "version": "3.9.7"
  }
 },
 "nbformat": 4,
 "nbformat_minor": 5
}
