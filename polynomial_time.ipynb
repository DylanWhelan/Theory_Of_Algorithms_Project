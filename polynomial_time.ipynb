{
 "cells": [
  {
   "cell_type": "markdown",
   "id": "6d4ec1ac",
   "metadata": {},
   "source": [
    "# The Polynomial Time Complexity Class(P)"
   ]
  },
  {
   "cell_type": "markdown",
   "id": "47bc85b9",
   "metadata": {},
   "source": [
    "The purpose of this notebook is to write about the Polynomial Time Complexity Class, one of the Time Complexity Classes and perhaps the one most most desireable when writings algorithms."
   ]
  },
  {
   "cell_type": "markdown",
   "id": "e388e04d",
   "metadata": {},
   "source": [
    "### Definition of Time Complexity Class"
   ]
  },
  {
   "cell_type": "markdown",
   "id": "f32562e2",
   "metadata": {},
   "source": [
    "Time Complexity Classes are a manner of classifying problems based on the time taken to solve them, or more accurately classifying how the time required to solve the problem grows in response to an increase in the input size."
   ]
  },
  {
   "cell_type": "code",
   "execution_count": null,
   "id": "4bd6ad66",
   "metadata": {},
   "outputs": [],
   "source": []
  }
 ],
 "metadata": {
  "kernelspec": {
   "display_name": "Python 3 (ipykernel)",
   "language": "python",
   "name": "python3"
  },
  "language_info": {
   "codemirror_mode": {
    "name": "ipython",
    "version": 3
   },
   "file_extension": ".py",
   "mimetype": "text/x-python",
   "name": "python",
   "nbconvert_exporter": "python",
   "pygments_lexer": "ipython3",
   "version": "3.9.7"
  }
 },
 "nbformat": 4,
 "nbformat_minor": 5
}
